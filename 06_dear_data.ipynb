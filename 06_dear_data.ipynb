import numpy as np
hours_slept=np.array([6,8,6,8,6,9,6])
glasses_of_water=np.array([2,1,3,2,3,8,5])
yawns=np.array([5,3,2,4,1,5,2])
how_many_croissant=np.array([0,0,0,0,0,4,2])
mood=np.array([7,7,7,7,7,7,9])
print("difference between my mood at first and end of the week",(mood[6]-mood[0]))
hours=np.average(hours_slept)
print("average of hours slept",hours)
