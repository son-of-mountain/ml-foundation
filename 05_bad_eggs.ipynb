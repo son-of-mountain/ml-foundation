import numpy as np
arr = np.array([[1, 2, 3], [4, 5, 6], [7, 8, 9]])
print(arr[0])     # Output: [1, 2, 3]
print(arr[1])     # Output: [4, 5, 6]
print(arr[2])     # Output: [7, 8, 9]
print(arr[0][0])
# a monthly budget (organized by month and category)
monthly_budget = np.array([
  [453.88, 192.44, 1750.00, 980.41, 578.22],   # month 1
  [689.77, 256.81, 1750.00, 865.34, 356.84],   # month 2
  [589.23, 293.42, 1850.00, 873.45, 789.23]    # month 3
])

# we have some egg cartons that we want to know the average freshness
egg_carton1 = np.array([
  [0.89, 0.90, 0.83, 0.89, 0.97, 0.98], 
  [0.95, 0.95, 0.89, 0.95, 0.23, 0.99]
])

egg_carton2 = np.array([
  [0.89, 0.95, 0.84, 0.92, 0.94, 0.93], 
  [0.93, 0.95, 0.02, 0.03, 0.23, 0.99]
])

egg_carton3 = np.array([
  [0.83, 0.95, 0.89, 0.54, 0.37, 0.92], 
  [0.98, 0.99, 0.19, 0.23, 0.89, 0.91]
])

# how to get the average ? 
carton1 = np.average(egg_carton1)
carton2 = np.average(egg_carton2)
carton3 = np.average(egg_carton3)


